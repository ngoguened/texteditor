{
 "cells": [
  {
   "cell_type": "code",
   "execution_count": 1,
   "metadata": {},
   "outputs": [],
   "source": [
    "import numpy\n",
    "import pandas\n",
    "import pickle"
   ]
  },
  {
   "cell_type": "code",
   "execution_count": 2,
   "metadata": {},
   "outputs": [
    {
     "name": "stdout",
     "output_type": "stream",
     "text": [
      "['hey', 'h', 'hig', 'h', 'jai']\n"
     ]
    }
   ],
   "source": [
    "with open(\"/home/nicholas/Downloads/cmudict.dict\") as file:\n",
    "    my_dict = dict()\n",
    "    for line in file.readlines():\n",
    "        word = line[:line.find(\" \")]\n",
    "        word = word[:word.find('(')]\n",
    "        phonemes_raw = line[line.find(\" \")+1:line.find('#')]\n",
    "        phonemes = tuple(phonemes_raw.replace('\\n', '').split(\" \"))\n",
    "        # print(phonemes)\n",
    "        \n",
    "        if phonemes in my_dict:\n",
    "            my_dict[phonemes].append(word)\n",
    "        else:\n",
    "            my_dict[phonemes] = [word]\n",
    "\n",
    "print(my_dict[('HH', 'AY1')])"
   ]
  },
  {
   "cell_type": "code",
   "execution_count": 3,
   "metadata": {},
   "outputs": [],
   "source": [
    "from phonemeKeyboard.phonemes import PhonemeEnums\n",
    "conversion = {\n",
    "\n",
    "    \"P\": PhonemeEnums.p,\n",
    "    \"T\": PhonemeEnums.t,\n",
    "    \"K\": PhonemeEnums.k,\n",
    "    \"CH\": PhonemeEnums.tʃ,\n",
    "    \"F\": PhonemeEnums.f,\n",
    "    \"TH\": PhonemeEnums.θ,\n",
    "    \"S\": PhonemeEnums.s,\n",
    "    \"SH\": PhonemeEnums.ʃ,\n",
    "    \"HH\": PhonemeEnums.h,\n",
    "    \"B\" :PhonemeEnums.b,\n",
    "    \"D\": PhonemeEnums.d,\n",
    "    \"G\": PhonemeEnums.g,\n",
    "    \"JH\": PhonemeEnums.dʒ,\n",
    "    \"V\": PhonemeEnums.v,\n",
    "    \"DH\": PhonemeEnums.ð,\n",
    "    \"Z\": PhonemeEnums.z,\n",
    "    \"ZH\": PhonemeEnums.ʒ,\n",
    "    \"M\": PhonemeEnums.m,\n",
    "    \"N\": PhonemeEnums.n,\n",
    "    \"NG\": PhonemeEnums.ŋ,\n",
    "    \"Y\": PhonemeEnums.j,\n",
    "    \"W\": PhonemeEnums.w,\n",
    "    \"R\": PhonemeEnums.r,\n",
    "    \"L\": PhonemeEnums.l,\n",
    "\n",
    "    \"IH\":PhonemeEnums.ɪ,\"IH0\":PhonemeEnums.ɪ,\"IH1\":PhonemeEnums.ɪ,\"IH2\":PhonemeEnums.ɪ,\n",
    "    \"EH\":PhonemeEnums.ɛ,\"EH0\":PhonemeEnums.ɛ,\"EH1\":PhonemeEnums.ɛ,\"EH2\":PhonemeEnums.ɛ,\n",
    "    \"AE\":PhonemeEnums.æ,\"AE0\":PhonemeEnums.æ,\"AE1\":PhonemeEnums.æ,\"AE2\":PhonemeEnums.æ,\n",
    "    \"AA\":PhonemeEnums.ɑ,\"AA0\":PhonemeEnums.ɑ,\"AA1\":PhonemeEnums.ɑ,\"AA2\":PhonemeEnums.ɑ,\n",
    "    \"AH\":PhonemeEnums.ʌ,\"AH0\":PhonemeEnums.ʌ,\"AH2\":PhonemeEnums.ʌ,\n",
    "    \"UH\":PhonemeEnums.ʊ,\"UH0\":PhonemeEnums.ʊ,\"UH1\":PhonemeEnums.ʊ,\"UH2\":PhonemeEnums.ʊ,\n",
    "    \"AO\":PhonemeEnums.ɔ,\"AO0\":PhonemeEnums.ɔ,\"AO1\":PhonemeEnums.ɔ,\"AO2\":PhonemeEnums.ɔ,\n",
    "    \"ER\":PhonemeEnums.ɜr,\"ER0\":PhonemeEnums.ɜr,\"ER1\":PhonemeEnums.ɜr,\"ER2\":PhonemeEnums.ɜr,\n",
    "    \"IY\":PhonemeEnums.i,\"IY0\":PhonemeEnums.i,\"IY1\":PhonemeEnums.i,\"IY2\":PhonemeEnums.i,\n",
    "    \"EY\":PhonemeEnums.eɪ,\"EY0\":PhonemeEnums.eɪ,\"EY1\":PhonemeEnums.eɪ,\"EY2\":PhonemeEnums.eɪ,\n",
    "    \"OW\":PhonemeEnums.oʊ,\"OW0\":PhonemeEnums.oʊ,\"OW1\":PhonemeEnums.oʊ,\"OW2\":PhonemeEnums.oʊ,\n",
    "    \"UW\":PhonemeEnums.u,\"UW0\":PhonemeEnums.u,\"UW1\":PhonemeEnums.u,\"UW2\":PhonemeEnums.u,\n",
    "    \"AY\":PhonemeEnums.aɪ,\"AY0\":PhonemeEnums.aɪ,\"AY1\":PhonemeEnums.aɪ,\"AY2\":PhonemeEnums.aɪ,\n",
    "    \"OY\": PhonemeEnums.ɔɪ,\"OY0\": PhonemeEnums.ɔɪ,\"OY1\": PhonemeEnums.ɔɪ,\"OY2\": PhonemeEnums.ɔɪ,\n",
    "    \"AW\": PhonemeEnums.aʊ,\"AW0\": PhonemeEnums.aʊ,\"AW1\": PhonemeEnums.aʊ,\"AW2\": PhonemeEnums.aʊ,\n",
    "\n",
    "    \"AH1\": PhonemeEnums.ə,\n",
    "\n",
    "}\n",
    "\n",
    "formatted_dict = {}\n",
    "for key, value in my_dict.items():\n",
    "    replace = []\n",
    "    for phoneme in key:\n",
    "        if phoneme != \"\":\n",
    "            replace.append(conversion[phoneme])\n",
    "    if tuple(replace) in formatted_dict:\n",
    "        formatted_dict[tuple(replace)] = formatted_dict[tuple(replace)] + value\n",
    "    else:\n",
    "        formatted_dict[tuple(replace)] = value"
   ]
  },
  {
   "cell_type": "code",
   "execution_count": 4,
   "metadata": {},
   "outputs": [
    {
     "name": "stdout",
     "output_type": "stream",
     "text": [
      "[\"'bou\", 'bou']\n",
      "['hey', 'h', 'hig', 'h', 'jai', 'hy']\n"
     ]
    }
   ],
   "source": [
    "print(formatted_dict[(PhonemeEnums.b, PhonemeEnums.aʊ, PhonemeEnums.t)])\n",
    "print(formatted_dict[(PhonemeEnums.h,PhonemeEnums.aɪ)])"
   ]
  },
  {
   "cell_type": "code",
   "execution_count": 5,
   "metadata": {},
   "outputs": [],
   "source": [
    "with open('saved_dictionary.pkl', 'wb') as f:\n",
    "    pickle.dump(formatted_dict, f)"
   ]
  }
 ],
 "metadata": {
  "kernelspec": {
   "display_name": "Python 3",
   "language": "python",
   "name": "python3"
  },
  "language_info": {
   "codemirror_mode": {
    "name": "ipython",
    "version": 3
   },
   "file_extension": ".py",
   "mimetype": "text/x-python",
   "name": "python",
   "nbconvert_exporter": "python",
   "pygments_lexer": "ipython3",
   "version": "3.12.5"
  }
 },
 "nbformat": 4,
 "nbformat_minor": 2
}
