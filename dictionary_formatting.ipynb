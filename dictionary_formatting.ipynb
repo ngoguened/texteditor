{
 "cells": [
  {
   "cell_type": "code",
   "execution_count": 41,
   "metadata": {},
   "outputs": [],
   "source": [
    "import numpy\n",
    "import pandas\n",
    "import pickle"
   ]
  },
  {
   "cell_type": "code",
   "execution_count": 31,
   "metadata": {},
   "outputs": [],
   "source": [
    "with open(\"/home/nicholas/Downloads/cmudict.dict\") as file:\n",
    "    my_dict = dict()\n",
    "    for line in file.readlines():\n",
    "        if line.find('#') != -1:\n",
    "            line = line[:line.find('#')-1]\n",
    "        my_dict[line[line.find(\" \")+1:]] = line[:line.find(\" \")]"
   ]
  },
  {
   "cell_type": "code",
   "execution_count": 37,
   "metadata": {},
   "outputs": [],
   "source": [
    "from phonemeKeyboard.phonemes import PhonemeEnums\n",
    "conversion = {\n",
    "\n",
    "    \"P\": PhonemeEnums.p,\n",
    "    \"T\": PhonemeEnums.t,\n",
    "    \"K\": PhonemeEnums.k,\n",
    "    \"CH\": PhonemeEnums.tʃ,\n",
    "    \"F\": PhonemeEnums.f,\n",
    "    \"TH\": PhonemeEnums.θ,\n",
    "    \"S\": PhonemeEnums.s,\n",
    "    \"SH\": PhonemeEnums.ʃ,\n",
    "    \"HH\": PhonemeEnums.h,\n",
    "    \"B\" :PhonemeEnums.b,\n",
    "    \"D\": PhonemeEnums.d,\n",
    "    \"G\": PhonemeEnums.g,\n",
    "    \"JH\": PhonemeEnums.dʒ,\n",
    "    \"V\": PhonemeEnums.v,\n",
    "    \"DH\": PhonemeEnums.ð,\n",
    "    \"Z\": PhonemeEnums.z,\n",
    "    \"ZH\": PhonemeEnums.ʒ,\n",
    "    \"M\": PhonemeEnums.m,\n",
    "    \"N\": PhonemeEnums.n,\n",
    "    \"NG\": PhonemeEnums.ŋ,\n",
    "    \"Y\": PhonemeEnums.j,\n",
    "    \"W\": PhonemeEnums.w,\n",
    "    \"R\": PhonemeEnums.r,\n",
    "    \"L\": PhonemeEnums.l,\n",
    "\n",
    "    \"IH\":PhonemeEnums.ɪ,\"IH0\":PhonemeEnums.ɪ,\"IH1\":PhonemeEnums.ɪ,\"IH2\":PhonemeEnums.ɪ,\n",
    "    \"EH\":PhonemeEnums.ɛ,\"EH0\":PhonemeEnums.ɛ,\"EH1\":PhonemeEnums.ɛ,\"EH2\":PhonemeEnums.ɛ,\n",
    "    \"AE\":PhonemeEnums.æ,\"AE0\":PhonemeEnums.æ,\"AE1\":PhonemeEnums.æ,\"AE2\":PhonemeEnums.æ,\n",
    "    \"AA\":PhonemeEnums.ɑ,\"AA0\":PhonemeEnums.ɑ,\"AA1\":PhonemeEnums.ɑ,\"AA2\":PhonemeEnums.ɑ,\n",
    "    \"AH\":PhonemeEnums.ʌ,\"AH0\":PhonemeEnums.ʌ,\"AH2\":PhonemeEnums.ʌ,\n",
    "    \"UH\":PhonemeEnums.ʊ,\"UH0\":PhonemeEnums.ʊ,\"UH1\":PhonemeEnums.ʊ,\"UH2\":PhonemeEnums.ʊ,\n",
    "    \"AO\":PhonemeEnums.ɔ,\"AO0\":PhonemeEnums.ɔ,\"AO1\":PhonemeEnums.ɔ,\"AO2\":PhonemeEnums.ɔ,\n",
    "    \"ER\":PhonemeEnums.ɜr,\"ER0\":PhonemeEnums.ɜr,\"ER1\":PhonemeEnums.ɜr,\"ER2\":PhonemeEnums.ɜr,\n",
    "    \"IY\":PhonemeEnums.i,\"IY0\":PhonemeEnums.i,\"IY1\":PhonemeEnums.i,\"IY2\":PhonemeEnums.i,\n",
    "    \"EY\":PhonemeEnums.eɪ,\"EY0\":PhonemeEnums.eɪ,\"EY1\":PhonemeEnums.eɪ,\"EY2\":PhonemeEnums.eɪ,\n",
    "    \"OW\":PhonemeEnums.oʊ,\"OW0\":PhonemeEnums.oʊ,\"OW1\":PhonemeEnums.oʊ,\"OW2\":PhonemeEnums.oʊ,\n",
    "    \"UW\":PhonemeEnums.u,\"UW0\":PhonemeEnums.u,\"UW1\":PhonemeEnums.u,\"UW2\":PhonemeEnums.u,\n",
    "    \"AY\":PhonemeEnums.aɪ,\"AY0\":PhonemeEnums.aɪ,\"AY1\":PhonemeEnums.aɪ,\"AY2\":PhonemeEnums.aɪ,\n",
    "    \"OY\": PhonemeEnums.ɔɪ,\"OY0\": PhonemeEnums.ɔɪ,\"OY1\": PhonemeEnums.ɔɪ,\"OY2\": PhonemeEnums.ɔɪ,\n",
    "    \"AW\": PhonemeEnums.aʊ,\"AW0\": PhonemeEnums.aʊ,\"AW1\": PhonemeEnums.aʊ,\"AW2\": PhonemeEnums.aʊ,\n",
    "\n",
    "    \"AH1\": PhonemeEnums.ə,\n",
    "\n",
    "}\n",
    "\n",
    "formatted_dict = {}\n",
    "for key, value in my_dict.items():\n",
    "    replace = []\n",
    "    for phoneme in key.replace('\\n', '').split(\" \"):\n",
    "        replace.append(conversion[phoneme])\n",
    "    formatted_dict[str(value)] = replace"
   ]
  },
  {
   "cell_type": "code",
   "execution_count": 38,
   "metadata": {},
   "outputs": [
    {
     "name": "stdout",
     "output_type": "stream",
     "text": [
      "[<PhonemeEnums.b: 138>, <PhonemeEnums.aʊ: 167>, <PhonemeEnums.t: 129>]\n"
     ]
    }
   ],
   "source": [
    "print(formatted_dict[\"bout\"])"
   ]
  },
  {
   "cell_type": "code",
   "execution_count": 42,
   "metadata": {},
   "outputs": [],
   "source": [
    "inverted_dict = {}\n",
    "for key, value in formatted_dict.items():\n",
    "    inverted_dict[tuple(value)] = key\n",
    "with open('saved_dictionary.pkl', 'wb') as f:\n",
    "    pickle.dump(inverted_dict, f)"
   ]
  },
  {
   "cell_type": "code",
   "execution_count": 40,
   "metadata": {},
   "outputs": [
    {
     "name": "stdout",
     "output_type": "stream",
     "text": [
      "bout\n"
     ]
    }
   ],
   "source": [
    "print(inverted_dict[(PhonemeEnums.b, PhonemeEnums.aʊ, PhonemeEnums.t)])"
   ]
  }
 ],
 "metadata": {
  "kernelspec": {
   "display_name": "Python 3",
   "language": "python",
   "name": "python3"
  },
  "language_info": {
   "codemirror_mode": {
    "name": "ipython",
    "version": 3
   },
   "file_extension": ".py",
   "mimetype": "text/x-python",
   "name": "python",
   "nbconvert_exporter": "python",
   "pygments_lexer": "ipython3",
   "version": "3.12.5"
  }
 },
 "nbformat": 4,
 "nbformat_minor": 2
}
